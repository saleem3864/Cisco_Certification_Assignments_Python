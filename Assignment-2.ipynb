{
 "cells": [
  {
   "cell_type": "code",
   "execution_count": 8,
   "metadata": {},
   "outputs": [
    {
     "name": "stdout",
     "output_type": "stream",
     "text": [
      "Enter Marks In Python Programming(MAX 100) : 85\n",
      "Enter Marks In Algorithams(MAX 100) : 90\n",
      "Enter Marks In Digital Logic and Computer Design(MAX 100) : 92\n",
      "Enter Marks In Web Programming(MAX 100) : 96\n",
      "Enter Marks In Data Structures(MAX 100) : 80\n",
      "********** RESULT **********\n",
      "Total Marks Obtained \t: 443\n",
      "Percentage \t\t: 88\n",
      "Grade \t\t\t: A\n"
     ]
    }
   ],
   "source": [
    "a=[]\n",
    "b=[\"Python Programming\", \"Algorithams\", \"Digital Logic and Computer Design\", \"Web Programming\", \"Data Structures\" ]\n",
    "sum_=0\n",
    "percent=0\n",
    "grade=\"\"\n",
    "for i in range(5):\n",
    "    a.append(int(input(\"Enter Marks In \"+b[i]+\"(MAX 100) : \")))\n",
    "for c in range(len(a)):\n",
    "    sum_= sum_+a[c-1]\n",
    "print(\"*********** RESULT ***********\")\n",
    "print(\"Total Marks Obtained \\t: \"+str(sum_))\n",
    "percent=int(sum_/500*100)\n",
    "print(\"Percentage \\t\\t: \"+str(percent))\n",
    "if percent >= 80:\n",
    "    grade = \"A\"\n",
    "elif percent >= 60 and percent < 80:\n",
    "    grade = \"B\"\n",
    "elif percent >= 50 and percent <60:\n",
    "    grade= \"C\"\n",
    "elif percent >= 40 and percent <50:\n",
    "    grade= \"D\"\n",
    "else:\n",
    "    grade = \"F-Fail\"\n",
    "print(\"Grade \\t\\t\\t: \"+grade)\n",
    "    "
   ]
  },
  {
   "cell_type": "code",
   "execution_count": 9,
   "metadata": {},
   "outputs": [
    {
     "name": "stdout",
     "output_type": "stream",
     "text": [
      "Enter Number Here (Interger) : 77\n",
      "Given Number : 77 Is Odd.\n"
     ]
    }
   ],
   "source": [
    "number=int(input(\"Enter Number Here (Interger) : \"))\n",
    "if number % 2 == 0:\n",
    "    print(\"Given Number : \"+str(number)+\" Is Even.\")\n",
    "else:\n",
    "    print(\"Given Number : \"+str(number)+\" Is Odd.\")"
   ]
  },
  {
   "cell_type": "code",
   "execution_count": 10,
   "metadata": {},
   "outputs": [
    {
     "name": "stdout",
     "output_type": "stream",
     "text": [
      "Length of List is : 5\n"
     ]
    }
   ],
   "source": [
    "lst= [\"Python Programming\", \"Algorithams\", \"Digital Logic and Computer Design\", \"Web Programming\", \"Data Structures\" ]\n",
    "print(\"Length of List is : \"+str(len(lst)))"
   ]
  },
  {
   "cell_type": "code",
   "execution_count": 2,
   "metadata": {},
   "outputs": [
    {
     "name": "stdout",
     "output_type": "stream",
     "text": [
      "Sum of all Intergers of list is : 68\n"
     ]
    }
   ],
   "source": [
    "lst = [12,\"a\",\"12\",1,3,6,9,10,\"e\",7,20,\"c\",\"d\",\"F\"]\n",
    "sum_ = 0\n",
    "for j in range(len(lst)):\n",
    "    if (type(lst[j]) is int):\n",
    "        sum_ = sum_+lst[j]\n",
    "print(\"Sum of all Intergers of list is : \"+str(sum_))"
   ]
  },
  {
   "cell_type": "code",
   "execution_count": 3,
   "metadata": {},
   "outputs": [
    {
     "name": "stdout",
     "output_type": "stream",
     "text": [
      "Largest Value in list is : 99\n"
     ]
    }
   ],
   "source": [
    "lst = [12,13,50,1,3,6,9,10,77,7,20,99,30,50]\n",
    "print(\"Largest Value in list is : \"+str(max(lst)))"
   ]
  },
  {
   "cell_type": "code",
   "execution_count": 6,
   "metadata": {},
   "outputs": [
    {
     "name": "stdout",
     "output_type": "stream",
     "text": [
      "List of All Numbers Less then 5 : [1, 1, 2, 3]\n"
     ]
    }
   ],
   "source": [
    "lst = [1,1,2,3,5,8,13,21,34,55,89]\n",
    "lst_b = []\n",
    "for j in range(len(lst)):\n",
    "    if not lst[j] > 4:\n",
    "        lst_b.append(lst[j])\n",
    "print(\"List of All Numbers Less then 5 : \"+str(lst_b))\n",
    "    "
   ]
  }
 ],
 "metadata": {
  "kernelspec": {
   "display_name": "Python 3",
   "language": "python",
   "name": "python3"
  },
  "language_info": {
   "codemirror_mode": {
    "name": "ipython",
    "version": 3
   },
   "file_extension": ".py",
   "mimetype": "text/x-python",
   "name": "python",
   "nbconvert_exporter": "python",
   "pygments_lexer": "ipython3",
   "version": "3.7.4"
  }
 },
 "nbformat": 4,
 "nbformat_minor": 2
}
