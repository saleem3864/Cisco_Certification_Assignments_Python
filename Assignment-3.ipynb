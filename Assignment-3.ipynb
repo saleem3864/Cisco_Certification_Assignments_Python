{
 "cells": [
  {
   "cell_type": "code",
   "execution_count": null,
   "metadata": {},
   "outputs": [
    {
     "name": "stdout",
     "output_type": "stream",
     "text": [
      "*********** Python Calculator ***********\n",
      "Choose Your Operation\n",
      "1. Division\n",
      "2. Mutliplication\n",
      "3. Addition\n",
      "4. Subtraction\n",
      "5. Power\n",
      "6. EXIT\n"
     ]
    }
   ],
   "source": [
    "def add():\n",
    "    print(\"_______________ADDITION______________\")\n",
    "    a=int(input(\"Enter First Number: \"))\n",
    "    b=int(input(\"Enter Second Number: \"))\n",
    "    return \"Result of \"+str(a)+\"+\"+str(b)+\" is :\"+str(a+b)\n",
    "def sub(): \n",
    "    print(\"______________SUBTRACTION______________\")\n",
    "    a=int(input(\"Enter First Number: \"))\n",
    "    b=int(input(\"Enter Second Number: \"))\n",
    "    return \"Result of \"+str(a)+\"-\"+str(b)+\" is :\"+str(a-b)\n",
    "def mult():\n",
    "    print(\"_______________MULTIPLICATION______________\")\n",
    "    a=int(input(\"Enter First Number: \")) \n",
    "    b=int(input(\"Enter Second Number: \")) \n",
    "    return \"Result of \"+str(a)+\"*\"+str(b)+\" is :\"+str(a*b) \n",
    "def div(): \n",
    "    print(\"_______________DIVISION______________\")\n",
    "    a=int(input(\"Enter Divisor: \"))\n",
    "    b=int(input(\"Enter Dividant: \")) \n",
    "    return \"Result of \"+str(a)+\"/\"+str(b)+\" is :\"+str(a/b) \n",
    "def power(): \n",
    "    print(\"_______________POWER______________\")\n",
    "    a=int(input(\"Enter Number: \")) \n",
    "    b=int(input(\"Enter Power: \")) \n",
    "    return \"Result of \"+str(a)+\"^\"+str(b)+\" is :\"+str(pow(a,b)) \n",
    "def ui():\n",
    "    print(\"Choose Your Operation\\n1. Division\\n2. Mutliplication\\n3. Addition\\n4. Subtraction\\n5. Power\\n6. EXIT\")\n",
    "    inp=int(input(\"Enter Your Choice(1..6): \"))\n",
    "    if inp==1: \n",
    "        print(div()) \n",
    "        print(\"_____________________________________\")\n",
    "        ui()\n",
    "    elif inp==2:\n",
    "        print(mult())\n",
    "        print(\"_____________________________________\")\n",
    "        ui()\n",
    "    elif inp==3: \n",
    "        print(add())\n",
    "        print(\"_____________________________________\")\n",
    "        ui()\n",
    "    elif inp==4:\n",
    "        print(sub())\n",
    "        print(\"_____________________________________\")\n",
    "        ui()\n",
    "    elif inp==5:\n",
    "        print(power())\n",
    "        print(\"_____________________________________\")\n",
    "        ui()\n",
    "    elif inp==6:\n",
    "        print(\"_____________________________________\")\n",
    "        print(\"Exitting...\")\n",
    "        exit(0) \n",
    "        \n",
    "    else:\n",
    "        print(\"INVALID COMMAND\")\n",
    "        ui()\n",
    "print(\"*********** Python Calculator ***********\")\n",
    "ui()\n",
    "    "
   ]
  },
  {
   "cell_type": "code",
   "execution_count": 5,
   "metadata": {},
   "outputs": [
    {
     "name": "stdout",
     "output_type": "stream",
     "text": [
      "Using Metthod 1: [2, 11, 3, 2, 4] TOTAL: 5\n",
      "Using Metthod 2: ['2', '11', '3', '2', '4'] TOTAL: 5\n"
     ]
    }
   ],
   "source": [
    "lst=[\"a\",2,\"d\",11,\"e\",3,\"w\",\"r\",2,4]\n",
    "result=[]\n",
    "#Method 1; all numerics\n",
    "for a in lst:\n",
    "    if type(a) == int:\n",
    "        result.append(a)\n",
    "print(\"Using Metthod 1: \"+str(result)+\" TOTAL: \"+str(len(result)))\n",
    "lst=[\"a\",\"2\",\"d\",\"11\",\"e\",\"3\",\"w\",\"r\",\"2\",\"4\"]\n",
    "result=[]\n",
    "#Method 2; here string will be checked if they contain any numeric value\n",
    "for a in lst:\n",
    "    if a.isnumeric():\n",
    "        result.append(a)\n",
    "print(\"Using Metthod 2: \"+str(result)+\" TOTAL: \"+str(len(result)))"
   ]
  },
  {
   "cell_type": "code",
   "execution_count": 3,
   "metadata": {},
   "outputs": [
    {
     "name": "stdout",
     "output_type": "stream",
     "text": [
      "Dictionary having an key {'key1': 12}\n"
     ]
    }
   ],
   "source": [
    "dictionary={\"key1\":12}\n",
    "print(\"Dictionary having an key\"+str(dictionary))"
   ]
  },
  {
   "cell_type": "code",
   "execution_count": 3,
   "metadata": {},
   "outputs": [
    {
     "name": "stdout",
     "output_type": "stream",
     "text": [
      "Using Metthod 1: {'item2': 2, 'item3': 11, 'item4': 3, 'item6': 2, 'item7': 4} TOTAL: 5\n",
      "Using Metthod 2: dict_values(['2', '11', '3', '2', '4']) TOTAL: 5\n"
     ]
    }
   ],
   "source": [
    "dictionary={\"item1\":\"a\",\"item2\":2,\"item3\":11,\"item4\":3,\"item5\":\"r\",\"item6\":2,\"item7\":4}\n",
    "result={}\n",
    "#Method 1; all numerics\n",
    "for a in dictionary:\n",
    "    if type(dictionary[a]) == int:\n",
    "        result[a]=dictionary[a]\n",
    "print(\"Using Metthod 1: \"+str(result)+\" TOTAL: \"+str(len(result)))\n",
    "dictionary={\"item1\":\"a\",\"item2\":\"2\",\"item3\":\"d\",\"item4\":\"11\",\"item5\":\"e\",\"item6\":\"3\",\"item7\":\"w\",\"item8\":\"r\",\"item9\":\"2\",\"item10\":\"4\"}\n",
    "result={}\n",
    "#Method 2; here string will be checked if they contain any numeric value\n",
    "for a in dictionary:\n",
    "    if dictionary[a].isnumeric():\n",
    "        result[a]=dictionary[a]\n",
    "print(\"Using Metthod 2: \"+str(result.values())+\" TOTAL: \"+str(len(result)))"
   ]
  },
  {
   "cell_type": "code",
   "execution_count": 10,
   "metadata": {},
   "outputs": [
    {
     "name": "stdout",
     "output_type": "stream",
     "text": [
      "All Repeated elements in list: ['a', 'c', 'd', 'e']\n"
     ]
    }
   ],
   "source": [
    "lst=[\"a\",\"b\",\"c\",\"d\",\"e\",\"a\",\"c\",\"d\",\"f\",\"e\"]\n",
    "result=[]\n",
    "for a in lst:\n",
    "    for b in range(lst.index(a),len(lst)-1):\n",
    "        if a == lst[b+1]:\n",
    "            if a not in result:\n",
    "                result.append(a)\n",
    "print(\"All Repeated elements in list: \"+str(result))\n",
    "        "
   ]
  },
  {
   "cell_type": "code",
   "execution_count": 2,
   "metadata": {},
   "outputs": [
    {
     "name": "stdout",
     "output_type": "stream",
     "text": [
      "Note: each item of dictionary defines that is checking_key is availabe in dictionary not not(YES,NO)\n",
      "{'key2': 'Yes', 'key1': 'Yes', 'key6': 'Yes', 'key10': 'Yes', 'key15': 'No', 'key14': 'No', 'key9': 'Yes', 'key3': 'Yes', 'key20': 'No'}\n"
     ]
    }
   ],
   "source": [
    "dictionary={\"key1\":\"a\",\"key2\":\"2\",\"key3\":\"d\",\"key4\":\"11\",\"key5\":\"e\",\"key6\":\"3\",\"key7\":\"w\",\"key8\":\"r\",\"key9\":\"2\",\"key10\":\"4\"}\n",
    "checking_keys=[\"key2\",\"key1\",\"key6\",\"key10\",\"key15\",\"key14\",\"key9\",\"key3\",\"key20\"]\n",
    "answers={}\n",
    "for a in checking_keys:\n",
    "    if a in dictionary:\n",
    "        answers[a]=\"Yes\"\n",
    "    else:\n",
    "        answers[a]=\"No\"\n",
    "print(\"Note: each item of dictionary defines that is checking_key is availabe in dictionary not not(YES,NO)\\n\"+str(answers))\n",
    "            "
   ]
  },
  {
   "cell_type": "code",
   "execution_count": null,
   "metadata": {},
   "outputs": [],
   "source": []
  }
 ],
 "metadata": {
  "kernelspec": {
   "display_name": "Python 3",
   "language": "python",
   "name": "python3"
  },
  "language_info": {
   "codemirror_mode": {
    "name": "ipython",
    "version": 3
   },
   "file_extension": ".py",
   "mimetype": "text/x-python",
   "name": "python",
   "nbconvert_exporter": "python",
   "pygments_lexer": "ipython3",
   "version": "3.7.4"
  }
 },
 "nbformat": 4,
 "nbformat_minor": 2
}
