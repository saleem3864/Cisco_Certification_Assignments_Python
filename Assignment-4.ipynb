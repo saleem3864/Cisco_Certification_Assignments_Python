{
 "cells": [
  {
   "cell_type": "code",
   "execution_count": 18,
   "metadata": {},
   "outputs": [
    {
     "name": "stdout",
     "output_type": "stream",
     "text": [
      "==============> original dictionary\n",
      "first_name = Muhammad\n",
      "last_name = Saleem\n",
      "age = 19\n",
      "city = Mirpur Mathelo\n",
      "==============> key added qualification\n",
      "intermediate\n",
      "==============> Upgraded qualification\n",
      "Bachelor Of Computer Science\n",
      "==============> final dictioanry\n",
      "first_name = Muhammad\n",
      "last_name = Saleem\n",
      "age = 19\n",
      "city = Mirpur Mathelo\n",
      "qualification = Bachelor Of Computer Science\n"
     ]
    }
   ],
   "source": [
    "info={\"first_name\":\"Muhammad\",\"last_name\":\"Saleem\",\"age\":19,\"city\":\"Mirpur Mathelo\"}\n",
    "print(\"==============> original dictionary\")\n",
    "for a in info:\n",
    "    print(a+ \" = \" +str(info[a]))\n",
    "info.update({\"qualification\":\"intermediate\"})\n",
    "print(\"==============> key added qualification\")\n",
    "print(info[\"qualification\"])\n",
    "info[\"qualification\"]=\"Bachelor Of Computer Science\"\n",
    "print(\"==============> Upgraded qualification\")\n",
    "print(info[\"qualification\"])\n",
    "print(\"==============> final dictioanry\")\n",
    "for a in info:\n",
    "    print(a+ \" = \" +str(info[a]))"
   ]
  },
  {
   "cell_type": "code",
   "execution_count": 25,
   "metadata": {},
   "outputs": [
    {
     "name": "stdout",
     "output_type": "stream",
     "text": [
      "=====> Karachi\n",
      "country = Pakistan\n",
      "population = 15,741,000\n",
      "fact = The City Of Lights.\n",
      "=====> Hyderabad\n",
      "country = Pakistan\n",
      "population = 14,500,000\n",
      "fact = The City Of Winds.\n",
      "=====> Sukkur\n",
      "country = Pakistan\n",
      "population = 1,488,000\n",
      "fact = The Landsdown & Ayub Pillarless Bridges.\n"
     ]
    }
   ],
   "source": [
    "cities={\"Karachi\":{\"country\": \"Pakistan\",\"population\":\"15,741,000\",\"fact\":\"The City Of Lights.\"},\"Hyderabad\":{\"country\": \"Pakistan\",\"population\":\"14,500,000\",\"fact\":\"The City Of Winds.\"},\"Sukkur\":{\"country\": \"Pakistan\",\"population\":\"1,488,000\",\"fact\":\"The Landsdown & Ayub Pillarless Bridges.\"}}\n",
    "for a in cities:\n",
    "    print(\"=====> \"+a)\n",
    "    for b in cities[a]:\n",
    "        print(b+\" = \"+cities[a][b])"
   ]
  },
  {
   "cell_type": "code",
   "execution_count": null,
   "metadata": {},
   "outputs": [
    {
     "name": "stdout",
     "output_type": "stream",
     "text": [
      "Enter your Age Please : 3\n",
      "Your Ticket Fee is : Free\n",
      "Enter your Age Please : 30\n",
      "Your Ticket Fee is : $15\n",
      "Enter your Age Please : 10\n",
      "Your Ticket Fee is : $10\n"
     ]
    }
   ],
   "source": [
    "def input_():\n",
    "    try:\n",
    "        inp=int(input(\"Enter your Age Please : \"))\n",
    "    except:\n",
    "        print(\"Oops! Invalid Input! Please Enter a Numeric Value.\")\n",
    "        input_()\n",
    "    return inp\n",
    "def check(age):\n",
    "    if age <=3:\n",
    "        return \"Free\"\n",
    "    elif age in range(3,12):\n",
    "        return \"$10\"\n",
    "    else:\n",
    "        return \"$15\"\n",
    "def main_loop():\n",
    "    while True:\n",
    "        print(\"Your Ticket Fee is : \"+ check(input_()))\n",
    "main_loop()"
   ]
  },
  {
   "cell_type": "code",
   "execution_count": 1,
   "metadata": {},
   "outputs": [
    {
     "name": "stdout",
     "output_type": "stream",
     "text": [
      "Enter Favorite Book`s Name : Python For Everybody\n",
      "My Favorite Book is : Python For Everybody\n"
     ]
    }
   ],
   "source": [
    "def favorite_book(bookname):\n",
    "    print(\"My Favorite Book is : \"+bookname)\n",
    "favorite_book(input(\"Enter Favorite Book`s Name : \"))"
   ]
  },
  {
   "cell_type": "code",
   "execution_count": null,
   "metadata": {},
   "outputs": [
    {
     "name": "stdout",
     "output_type": "stream",
     "text": [
      "___________________________________________________\n",
      "Level : 1 (range = 1-10)\n",
      "Chances left : 3\n",
      "----------------------------------------------------\n",
      "Guese Number : 7\n",
      "Oops! You Choose a larger Number!\n",
      "Try Again!\n",
      "~~~~~~~~~~~~~~~~~~~~~~~~~~~~~~~~~~~~~~~~~~~~\n",
      "Chances left : 2\n",
      "----------------------------------------------------\n",
      "Guese Number : 5\n",
      "Oops! You Choose a Smaller Number!\n",
      "Try Again!\n",
      "~~~~~~~~~~~~~~~~~~~~~~~~~~~~~~~~~~~~~~~~~~~~\n",
      "Chances left : 1\n",
      "----------------------------------------------------\n",
      "Guese Number : 6\n",
      " Wow, You Guessed the Right Number.\n",
      "Level Up!\n",
      "*********************************************\n",
      "___________________________________________________\n",
      "Level : 2 (range = 1-20)\n",
      "Chances left : 3\n",
      "----------------------------------------------------\n",
      "Guese Number : 2\n",
      "Oops! You Choose a Smaller Number!\n",
      "Try Again!\n",
      "~~~~~~~~~~~~~~~~~~~~~~~~~~~~~~~~~~~~~~~~~~~~\n",
      "Chances left : 2\n",
      "----------------------------------------------------\n",
      "Guese Number : 7\n",
      " Wow, You Guessed the Right Number.\n",
      "Level Up!\n",
      "*********************************************\n",
      "___________________________________________________\n",
      "Level : 3 (range = 1-30)\n",
      "Chances left : 3\n",
      "----------------------------------------------------\n",
      "Guese Number : 18\n",
      "Oops! You Choose a Smaller Number!\n",
      "Try Again!\n",
      "~~~~~~~~~~~~~~~~~~~~~~~~~~~~~~~~~~~~~~~~~~~~\n",
      "Chances left : 2\n",
      "----------------------------------------------------\n",
      "Guese Number : 22\n",
      "Oops! You Choose a Smaller Number!\n",
      "Try Again!\n",
      "~~~~~~~~~~~~~~~~~~~~~~~~~~~~~~~~~~~~~~~~~~~~\n",
      "Chances left : 1\n",
      "----------------------------------------------------\n",
      "Guese Number : 28\n",
      "Oops! You Choose a larger Number!\n",
      "~~~~~~~~~~~~~~~~~~~~~~~~~~~~~~~~~~~~~~~~~~~~\n",
      "Oops Level Failed!\n",
      "___________________________________________________\n",
      "Level : 3 (range = 1-30)\n",
      "Chances left : 3\n",
      "----------------------------------------------------\n",
      "Guese Number : 12\n",
      "Oops! You Choose a larger Number!\n",
      "Try Again!\n",
      "~~~~~~~~~~~~~~~~~~~~~~~~~~~~~~~~~~~~~~~~~~~~\n",
      "Chances left : 2\n",
      "----------------------------------------------------\n",
      "Guese Number : 7\n",
      "Oops! You Choose a larger Number!\n",
      "Try Again!\n",
      "~~~~~~~~~~~~~~~~~~~~~~~~~~~~~~~~~~~~~~~~~~~~\n",
      "Chances left : 1\n",
      "----------------------------------------------------\n",
      "Guese Number : 5\n",
      "Oops! You Choose a larger Number!\n",
      "~~~~~~~~~~~~~~~~~~~~~~~~~~~~~~~~~~~~~~~~~~~~\n",
      "Oops Level Failed!\n",
      "___________________________________________________\n",
      "Level : 3 (range = 1-30)\n",
      "Chances left : 3\n",
      "----------------------------------------------------\n"
     ]
    }
   ],
   "source": [
    "import random\n",
    "def input_():\n",
    "    try:\n",
    "        print(\"----------------------------------------------------\")\n",
    "        inp=int(input(\"Guese Number : \"))\n",
    "    except:\n",
    "        print(\"Oops! Invalid Input! Please Enter a Numeric Value.\")\n",
    "        input_()\n",
    "    return inp\n",
    "def generate_random(values):\n",
    "    return int(random.randint(1,values))\n",
    "def check(inp,rand_num,values):\n",
    "    if inp <= values:\n",
    "        if inp == rand_num:\n",
    "            print(\" Wow, You Guessed the Right Number.\")\n",
    "            return True\n",
    "        elif inp < rand_num:\n",
    "            print(\"Oops! You Choose a Smaller Number!\")\n",
    "            return False\n",
    "        else:\n",
    "            print(\"Oops! You Choose a larger Number!\")\n",
    "            return False\n",
    "    else:\n",
    "        print(\"Oops! Number Out Of Range!\")\n",
    "        return False\n",
    "def main_loop():\n",
    "    level=1\n",
    "    values=10\n",
    "    while True:\n",
    "        print(\"___________________________________________________\")\n",
    "        print(\"Level : \"+str(level)+\" (range = 1-\"+str(values)+\")\")\n",
    "        chances=3\n",
    "        rand_num=generate_random(values)\n",
    "        while chances != 0:\n",
    "            print(\"Chances left : \"+str(chances))\n",
    "            inp=input_()\n",
    "            if check(inp,rand_num,values):\n",
    "                level+=1\n",
    "                values+=10\n",
    "                print(\"Level Up!\")\n",
    "                print(\"*********************************************\")\n",
    "                break\n",
    "            else:\n",
    "                chances-=1\n",
    "                if chances > 0:\n",
    "                    print(\"Try Again!\")\n",
    "                    print(\"~~~~~~~~~~~~~~~~~~~~~~~~~~~~~~~~~~~~~~~~~~~~\")\n",
    "                else:\n",
    "                    print(\"~~~~~~~~~~~~~~~~~~~~~~~~~~~~~~~~~~~~~~~~~~~~\")\n",
    "                    print(\"Oops Level Failed!\")\n",
    "                    \n",
    "            \n",
    "main_loop()"
   ]
  }
 ],
 "metadata": {
  "kernelspec": {
   "display_name": "Python 3",
   "language": "python",
   "name": "python3"
  },
  "language_info": {
   "codemirror_mode": {
    "name": "ipython",
    "version": 3
   },
   "file_extension": ".py",
   "mimetype": "text/x-python",
   "name": "python",
   "nbconvert_exporter": "python",
   "pygments_lexer": "ipython3",
   "version": "3.7.4"
  }
 },
 "nbformat": 4,
 "nbformat_minor": 2
}
