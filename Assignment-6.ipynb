{
 "cells": [
  {
   "cell_type": "code",
   "execution_count": null,
   "metadata": {},
   "outputs": [],
   "source": [
    "\"\"\"\n",
    "OOP:\n",
    "Object Oriented Programing as clear from Name that it Deals with objects which has cetrain properties too.\n",
    "In Programing Object Oriented means that we create intances of cleases having objects and some initializers modules\n",
    "and Methods.\n",
    "\"\"\""
   ]
  },
  {
   "cell_type": "code",
   "execution_count": null,
   "metadata": {},
   "outputs": [],
   "source": [
    "\"\"\"\n",
    "BENIFITS OF OOP:\n",
    "1. Relating Real world entities with Programming\n",
    "2. REUSEABILITY OF CODE.\n",
    "3. easily Understable by Programmers.\n",
    "4. one can call any method any where any time using inistances.\n",
    "5. Helps in simpifying comlpex programs.\n",
    "6. STRUCTURE BASEB PROGRAMMING\n",
    "\"\"\""
   ]
  },
  {
   "cell_type": "code",
   "execution_count": null,
   "metadata": {},
   "outputs": [],
   "source": [
    "\"\"\"FUNCTIONS VS METHODS:\n",
    "1. FUNCTIONS:\n",
    "    . Functions Come Under Procedural Programming\n",
    "    . Called Directly from Program but Fuctions Should be Defined Before Calling\n",
    "2. METHODS:\n",
    "    . Methods Come Under Object Oriented Programing\n",
    "    . They are declared Inside a Class, and are Only by Object or By prefix inside that class.\n",
    "\"\"\""
   ]
  },
  {
   "cell_type": "code",
   "execution_count": null,
   "metadata": {},
   "outputs": [],
   "source": [
    "\"\"\"\n",
    "1. CLASS:\n",
    "    A Class is a block of code having some attributes or methods or objects.\n",
    "2. OBJECT:\n",
    "    Objects are within the class\n",
    "3. ATTRIBUTES:\n",
    "    Attributes are Variables inside a __init__ method along with a prefix\n",
    "4. BEHAVIOR:\n",
    "    Behavior defines Properties of objects.\n",
    "\"\"\""
   ]
  },
  {
   "cell_type": "code",
   "execution_count": 6,
   "metadata": {},
   "outputs": [
    {
     "name": "stdout",
     "output_type": "stream",
     "text": [
      "GLI White Pakistan Toyota ABC-123 Paid\n",
      "GLI White Pakistan Toyota ABC-123 Unpaid\n"
     ]
    }
   ],
   "source": [
    "class car():\n",
    "    def __init__(self,model,color,country,company,reg_no):\n",
    "        self.model=model\n",
    "        self.color=color\n",
    "        self.country=country\n",
    "        self.company=company\n",
    "        self.reg_no=reg_no\n",
    "        self.Tax_status= \"Paid\"\n",
    "    def change_Tax_Status(self,Status):\n",
    "        self.Tax_status=Status\n",
    "    def change_color(self,color):\n",
    "        self.color=color\n",
    "    def change_country(self,country):\n",
    "        self.country=country\n",
    "car1=car(\"GLI\",\"White\",\"Pakistan\",\"Toyota\",\"ABC-123\")\n",
    "car2=car(\"XLI\",\"White\",\"Pakistan\",\"Toyota\",\"CDE-456\")\n",
    "car3=car(\"ALTIS 1.8\",\"Black\",\"Pakistan\",\"Toyota\",\"FGH-789\")\n",
    "car4=car(\"CIVIC 1.8\",\"White\",\"Pakistan\",\"Honda\",\"IJK-345\")\n",
    "car5=car(\"CULTUS\",\"Sky Blue\",\"Pakistan\",\"Suzuki\",\"LMN-567\")\n",
    "print(car1.model,car1.color,car1.country,car1.company,car1.reg_no,car1.Tax_status)\n",
    "car1.change_Tax_Status(\"Unpaid\")\n",
    "print(car1.model,car1.color,car1.country,car1.company,car1.reg_no,car1.Tax_status)\n",
    "print(car5.model,car5.color,car5.country,car5.company,car5.reg_no,car5.Tax_status)\n",
    "car5.change_country(\"UAE\")\n",
    "print(car5.model,car5.color,car5.country,car5.company,car5.reg_no,car5.Tax_status)"
   ]
  }
 ],
 "metadata": {
  "kernelspec": {
   "display_name": "Python 3",
   "language": "python",
   "name": "python3"
  },
  "language_info": {
   "codemirror_mode": {
    "name": "ipython",
    "version": 3
   },
   "file_extension": ".py",
   "mimetype": "text/x-python",
   "name": "python",
   "nbconvert_exporter": "python",
   "pygments_lexer": "ipython3",
   "version": "3.7.4"
  }
 },
 "nbformat": 4,
 "nbformat_minor": 2
}
