{
 "cells": [
  {
   "cell_type": "code",
   "execution_count": 5,
   "metadata": {},
   "outputs": [
    {
     "name": "stdout",
     "output_type": "stream",
     "text": [
      "Twinkle, twinkle, little star,\n",
      "\t how i ownder what you are \n",
      "\t\tup above the world so high\n",
      "\t\t\t like a diamond in the sky.\n",
      "Twinkle, twinkle, little star,\n",
      "\t how i ownder what you are\n"
     ]
    }
   ],
   "source": [
    "print(\"Twinkle, twinkle, little star,\\n\\t how i ownder what you are \\n\\t\\t\"\n",
    "      \"up above the world so high\\n\\t\\t\\t like a diamond in the sky.\\n\"\n",
    "      \"Twinkle, twinkle, little star,\\n\\t how i ownder what you are\")\n"
   ]
  },
  {
   "cell_type": "code",
   "execution_count": 6,
   "metadata": {},
   "outputs": [
    {
     "name": "stdout",
     "output_type": "stream",
     "text": [
      "Pyhton Version is: 3.6.7 | packaged by conda-forge | (default, Feb 28 2019, 09:07:38) \n",
      "[GCC 7.3.0]\n"
     ]
    }
   ],
   "source": [
    "import sys\n",
    "print(\"Pyhton Version is: \"+sys.version)\n"
   ]
  },
  {
   "cell_type": "code",
   "execution_count": 7,
   "metadata": {},
   "outputs": [
    {
     "name": "stdout",
     "output_type": "stream",
     "text": [
      "current time and date is :  05/11/2019 01:14:40 PM\n"
     ]
    }
   ],
   "source": [
    "import time\n",
    "print(\"current time and date is :  \"+time.strftime(\"%d/%m/%Y %I:%M:%S %p\"))\n"
   ]
  },
  {
   "cell_type": "code",
   "execution_count": 8,
   "metadata": {},
   "outputs": [
    {
     "name": "stdout",
     "output_type": "stream",
     "text": [
      "Enter Radius Of Circle: 23\n",
      "Area Of Circle is: 1661.0600000000002\n"
     ]
    }
   ],
   "source": [
    "r=int(input(\"Enter Radius Of Circle: \"))\n",
    "print(\"Area Of Circle is: \"+str(3.14*(r*r)))\n"
   ]
  },
  {
   "cell_type": "code",
   "execution_count": 9,
   "metadata": {},
   "outputs": [
    {
     "name": "stdout",
     "output_type": "stream",
     "text": [
      "Enter First Name: Saleem\n",
      "Enter Last Name: Abdullah\n",
      "Your Name in Reversed Order is :\"Abdullah Saleem\"\n"
     ]
    }
   ],
   "source": [
    "a=[]\n",
    "a.append(input(\"Enter First Name: \"))\n",
    "a.append(input(\"Enter Last Name: \"))\n",
    "print(\"Your Name in Reversed Order is :\\\"\"+a[1]+\" \"+a[0]+\"\"+\"\\\"\")\n"
   ]
  },
  {
   "cell_type": "code",
   "execution_count": 10,
   "metadata": {},
   "outputs": [
    {
     "name": "stdout",
     "output_type": "stream",
     "text": [
      "Enter Digit 1: 2\n",
      "Enter Digit 2: 3\n",
      "Sum Of Digit 1 And 2 is : 5\n"
     ]
    }
   ],
   "source": [
    "print(\"Sum Of Digit 1 And 2 is : \" +str( int(input(\"Enter Digit 1: \"))+int(input(\"Enter Digit 2: \"))))\n"
   ]
  },
  {
   "cell_type": "code",
   "execution_count": null,
   "metadata": {},
   "outputs": [],
   "source": []
  }
 ],
 "metadata": {
  "kernelspec": {
   "display_name": "Python 3",
   "language": "python",
   "name": "python3"
  },
  "language_info": {
   "codemirror_mode": {
    "name": "ipython",
    "version": 3
   },
   "file_extension": ".py",
   "mimetype": "text/x-python",
   "name": "python",
   "nbconvert_exporter": "python",
   "pygments_lexer": "ipython3",
   "version": "3.6.7"
  }
 },
 "nbformat": 4,
 "nbformat_minor": 2
}
